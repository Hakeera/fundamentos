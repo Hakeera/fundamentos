{
 "cells": [
  {
   "cell_type": "code",
   "execution_count": 47,
   "metadata": {},
   "outputs": [],
   "source": [
    "from selenium import webdriver\n",
    "from selenium.webdriver.chrome.service import Service\n",
    "from selenium.webdriver.common.by import By\n",
    "import time"
   ]
  },
  {
   "cell_type": "code",
   "execution_count": 55,
   "metadata": {},
   "outputs": [],
   "source": [
    "service = Service()\n",
    "options = webdriver.ChromeOptions()\n",
    "\n",
    "driver = webdriver.Chrome(service=service, options=options)"
   ]
  },
  {
   "cell_type": "code",
   "execution_count": 56,
   "metadata": {},
   "outputs": [],
   "source": [
    "url = 'https://heraldodemexico.com.mx/mundo/'\n",
    "\n",
    "driver.get(url)"
   ]
  },
  {
   "cell_type": "code",
   "execution_count": 70,
   "metadata": {},
   "outputs": [
    {
     "ename": "ElementNotInteractableException",
     "evalue": "Message: element not interactable\n  (Session info: chrome=119.0.6045.124)\nStacktrace:\n\tGetHandleVerifier [0x00007FF7C6A482B2+55298]\n\t(No symbol) [0x00007FF7C69B5E02]\n\t(No symbol) [0x00007FF7C687045D]\n\t(No symbol) [0x00007FF7C68B2B4C]\n\t(No symbol) [0x00007FF7C68A87BF]\n\t(No symbol) [0x00007FF7C68D20AA]\n\t(No symbol) [0x00007FF7C68A80CF]\n\t(No symbol) [0x00007FF7C68D22C0]\n\t(No symbol) [0x00007FF7C68EAAA4]\n\t(No symbol) [0x00007FF7C68D1E83]\n\t(No symbol) [0x00007FF7C68A670A]\n\t(No symbol) [0x00007FF7C68A7964]\n\tGetHandleVerifier [0x00007FF7C6DC0AAB+3694587]\n\tGetHandleVerifier [0x00007FF7C6E1728E+4048862]\n\tGetHandleVerifier [0x00007FF7C6E0F173+4015811]\n\tGetHandleVerifier [0x00007FF7C6AE47D6+695590]\n\t(No symbol) [0x00007FF7C69C0CE8]\n\t(No symbol) [0x00007FF7C69BCF34]\n\t(No symbol) [0x00007FF7C69BD062]\n\t(No symbol) [0x00007FF7C69AD3A3]\n\tBaseThreadInitThunk [0x00007FFF551B7344+20]\n\tRtlUserThreadStart [0x00007FFF55D026B1+33]\n",
     "output_type": "error",
     "traceback": [
      "\u001b[1;31m---------------------------------------------------------------------------\u001b[0m",
      "\u001b[1;31mElementNotInteractableException\u001b[0m           Traceback (most recent call last)",
      "\u001b[1;32mc:\\Users\\Dell\\Desktop\\code\\fundamentos\\coleta_de_dados\\mexico\\el_heraldo_mx\\el_heraldo_mx_sel.ipynb Cell 4\u001b[0m line \u001b[0;36m7\n\u001b[0;32m      <a href='vscode-notebook-cell:/c%3A/Users/Dell/Desktop/code/fundamentos/coleta_de_dados/mexico/el_heraldo_mx/el_heraldo_mx_sel.ipynb#W3sZmlsZQ%3D%3D?line=4'>5</a>\u001b[0m driver\u001b[39m.\u001b[39mexecute_script(\u001b[39m\"\u001b[39m\u001b[39mwindow.scrollBy(0, -100);\u001b[39m\u001b[39m\"\u001b[39m)\n\u001b[0;32m      <a href='vscode-notebook-cell:/c%3A/Users/Dell/Desktop/code/fundamentos/coleta_de_dados/mexico/el_heraldo_mx/el_heraldo_mx_sel.ipynb#W3sZmlsZQ%3D%3D?line=5'>6</a>\u001b[0m botao \u001b[39m=\u001b[39m driver\u001b[39m.\u001b[39mfind_element(By\u001b[39m.\u001b[39mCLASS_NAME, \u001b[39m'\u001b[39m\u001b[39mbtn__nav--next\u001b[39m\u001b[39m'\u001b[39m)\n\u001b[1;32m----> <a href='vscode-notebook-cell:/c%3A/Users/Dell/Desktop/code/fundamentos/coleta_de_dados/mexico/el_heraldo_mx/el_heraldo_mx_sel.ipynb#W3sZmlsZQ%3D%3D?line=6'>7</a>\u001b[0m botao\u001b[39m.\u001b[39;49mclick()\n",
      "File \u001b[1;32m~\\AppData\\Local\\Packages\\PythonSoftwareFoundation.Python.3.11_qbz5n2kfra8p0\\LocalCache\\local-packages\\Python311\\site-packages\\selenium\\webdriver\\remote\\webelement.py:93\u001b[0m, in \u001b[0;36mWebElement.click\u001b[1;34m(self)\u001b[0m\n\u001b[0;32m     91\u001b[0m \u001b[39mdef\u001b[39;00m \u001b[39mclick\u001b[39m(\u001b[39mself\u001b[39m) \u001b[39m-\u001b[39m\u001b[39m>\u001b[39m \u001b[39mNone\u001b[39;00m:\n\u001b[0;32m     92\u001b[0m \u001b[39m    \u001b[39m\u001b[39m\"\"\"Clicks the element.\"\"\"\u001b[39;00m\n\u001b[1;32m---> 93\u001b[0m     \u001b[39mself\u001b[39;49m\u001b[39m.\u001b[39;49m_execute(Command\u001b[39m.\u001b[39;49mCLICK_ELEMENT)\n",
      "File \u001b[1;32m~\\AppData\\Local\\Packages\\PythonSoftwareFoundation.Python.3.11_qbz5n2kfra8p0\\LocalCache\\local-packages\\Python311\\site-packages\\selenium\\webdriver\\remote\\webelement.py:394\u001b[0m, in \u001b[0;36mWebElement._execute\u001b[1;34m(self, command, params)\u001b[0m\n\u001b[0;32m    392\u001b[0m     params \u001b[39m=\u001b[39m {}\n\u001b[0;32m    393\u001b[0m params[\u001b[39m\"\u001b[39m\u001b[39mid\u001b[39m\u001b[39m\"\u001b[39m] \u001b[39m=\u001b[39m \u001b[39mself\u001b[39m\u001b[39m.\u001b[39m_id\n\u001b[1;32m--> 394\u001b[0m \u001b[39mreturn\u001b[39;00m \u001b[39mself\u001b[39;49m\u001b[39m.\u001b[39;49m_parent\u001b[39m.\u001b[39;49mexecute(command, params)\n",
      "File \u001b[1;32m~\\AppData\\Local\\Packages\\PythonSoftwareFoundation.Python.3.11_qbz5n2kfra8p0\\LocalCache\\local-packages\\Python311\\site-packages\\selenium\\webdriver\\remote\\webdriver.py:347\u001b[0m, in \u001b[0;36mWebDriver.execute\u001b[1;34m(self, driver_command, params)\u001b[0m\n\u001b[0;32m    345\u001b[0m response \u001b[39m=\u001b[39m \u001b[39mself\u001b[39m\u001b[39m.\u001b[39mcommand_executor\u001b[39m.\u001b[39mexecute(driver_command, params)\n\u001b[0;32m    346\u001b[0m \u001b[39mif\u001b[39;00m response:\n\u001b[1;32m--> 347\u001b[0m     \u001b[39mself\u001b[39;49m\u001b[39m.\u001b[39;49merror_handler\u001b[39m.\u001b[39;49mcheck_response(response)\n\u001b[0;32m    348\u001b[0m     response[\u001b[39m\"\u001b[39m\u001b[39mvalue\u001b[39m\u001b[39m\"\u001b[39m] \u001b[39m=\u001b[39m \u001b[39mself\u001b[39m\u001b[39m.\u001b[39m_unwrap_value(response\u001b[39m.\u001b[39mget(\u001b[39m\"\u001b[39m\u001b[39mvalue\u001b[39m\u001b[39m\"\u001b[39m, \u001b[39mNone\u001b[39;00m))\n\u001b[0;32m    349\u001b[0m     \u001b[39mreturn\u001b[39;00m response\n",
      "File \u001b[1;32m~\\AppData\\Local\\Packages\\PythonSoftwareFoundation.Python.3.11_qbz5n2kfra8p0\\LocalCache\\local-packages\\Python311\\site-packages\\selenium\\webdriver\\remote\\errorhandler.py:229\u001b[0m, in \u001b[0;36mErrorHandler.check_response\u001b[1;34m(self, response)\u001b[0m\n\u001b[0;32m    227\u001b[0m         alert_text \u001b[39m=\u001b[39m value[\u001b[39m\"\u001b[39m\u001b[39malert\u001b[39m\u001b[39m\"\u001b[39m]\u001b[39m.\u001b[39mget(\u001b[39m\"\u001b[39m\u001b[39mtext\u001b[39m\u001b[39m\"\u001b[39m)\n\u001b[0;32m    228\u001b[0m     \u001b[39mraise\u001b[39;00m exception_class(message, screen, stacktrace, alert_text)  \u001b[39m# type: ignore[call-arg]  # mypy is not smart enough here\u001b[39;00m\n\u001b[1;32m--> 229\u001b[0m \u001b[39mraise\u001b[39;00m exception_class(message, screen, stacktrace)\n",
      "\u001b[1;31mElementNotInteractableException\u001b[0m: Message: element not interactable\n  (Session info: chrome=119.0.6045.124)\nStacktrace:\n\tGetHandleVerifier [0x00007FF7C6A482B2+55298]\n\t(No symbol) [0x00007FF7C69B5E02]\n\t(No symbol) [0x00007FF7C687045D]\n\t(No symbol) [0x00007FF7C68B2B4C]\n\t(No symbol) [0x00007FF7C68A87BF]\n\t(No symbol) [0x00007FF7C68D20AA]\n\t(No symbol) [0x00007FF7C68A80CF]\n\t(No symbol) [0x00007FF7C68D22C0]\n\t(No symbol) [0x00007FF7C68EAAA4]\n\t(No symbol) [0x00007FF7C68D1E83]\n\t(No symbol) [0x00007FF7C68A670A]\n\t(No symbol) [0x00007FF7C68A7964]\n\tGetHandleVerifier [0x00007FF7C6DC0AAB+3694587]\n\tGetHandleVerifier [0x00007FF7C6E1728E+4048862]\n\tGetHandleVerifier [0x00007FF7C6E0F173+4015811]\n\tGetHandleVerifier [0x00007FF7C6AE47D6+695590]\n\t(No symbol) [0x00007FF7C69C0CE8]\n\t(No symbol) [0x00007FF7C69BCF34]\n\t(No symbol) [0x00007FF7C69BD062]\n\t(No symbol) [0x00007FF7C69AD3A3]\n\tBaseThreadInitThunk [0x00007FFF551B7344+20]\n\tRtlUserThreadStart [0x00007FFF55D026B1+33]\n"
     ]
    }
   ],
   "source": [
    "while True:\n",
    "    \n",
    "    time.sleep(4)\n",
    "    driver.execute_script(\"window.scrollBy(0, 7000000);\")\n",
    "    driver.execute_script(\"window.scrollBy(0, -100);\")\n",
    "    botao = driver.find_element(By.CLASS_NAME, 'btn__nav--next')\n",
    "    botao.click()"
   ]
  }
 ],
 "metadata": {
  "kernelspec": {
   "display_name": "Python 3",
   "language": "python",
   "name": "python3"
  },
  "language_info": {
   "codemirror_mode": {
    "name": "ipython",
    "version": 3
   },
   "file_extension": ".py",
   "mimetype": "text/x-python",
   "name": "python",
   "nbconvert_exporter": "python",
   "pygments_lexer": "ipython3",
   "version": "3.11.6"
  }
 },
 "nbformat": 4,
 "nbformat_minor": 2
}
