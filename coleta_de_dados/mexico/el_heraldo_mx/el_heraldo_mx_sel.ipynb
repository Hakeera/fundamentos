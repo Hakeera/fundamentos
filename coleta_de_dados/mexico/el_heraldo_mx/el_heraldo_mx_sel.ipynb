{
 "cells": [
  {
   "cell_type": "code",
   "execution_count": 4,
   "metadata": {},
   "outputs": [],
   "source": [
    "from bs4 import BeautifulSoup\n",
    "import requests\n",
    "from selenium import webdriver\n",
    "from selenium.webdriver.chrome.service import Service\n",
    "from selenium.webdriver.common.by import By\n",
    "import time\n"
   ]
  },
  {
   "cell_type": "code",
   "execution_count": 2,
   "metadata": {},
   "outputs": [],
   "source": [
    "service = Service()\n",
    "options = webdriver.ChromeOptions()\n",
    "\n",
    "driver = webdriver.Chrome(service=service, options=options)"
   ]
  },
  {
   "cell_type": "code",
   "execution_count": 3,
   "metadata": {},
   "outputs": [],
   "source": [
    "url = 'https://heraldodemexico.com.mx/mundo/'\n",
    "\n",
    "driver.get(url)"
   ]
  },
  {
   "cell_type": "code",
   "execution_count": null,
   "metadata": {},
   "outputs": [],
   "source": [
    "while True:\n",
    "    time.sleep(4)\n",
    "    driver.execute_script(\"window.scrollBy(0, 7000000);\")\n",
    "    driver.execute_script(\"window.scrollBy(0, -100);\")\n",
    "    botao = driver.find_element(By.CLASS_NAME, 'btn__nav--next')\n",
    "    botao.click()"
   ]
  },
  {
   "cell_type": "markdown",
   "metadata": {},
   "source": [
    "**Teste BS com SELENIUM**"
   ]
  },
  {
   "cell_type": "code",
   "execution_count": null,
   "metadata": {},
   "outputs": [],
   "source": [
    "def extrair_infos(url):\n",
    "    bs_noticia = carregar_notciias(url)\n",
    "    div_noticias = bs_noticia.find('div', 'col-md-8 col-lg-9')\n",
    "    artigos = div_noticias.find_all('article')\n",
    "    for artigo in artigos:\n",
    "        # Links\n",
    "        link = artigo.a['href'].strip()\n",
    "        links_list.append(link)\n",
    "        # Titulos\n",
    "        titulo = artigo.a['title'].strip()\n",
    "        titulo_rm, titulo_limpo = titulo.split(\":\", 1)\n",
    "        titulo_tratado = titulo_limpo.encode('latin-1').decode('utf-8')\n",
    "        titulos_list.append(titulo_tratado)\n",
    "        # Subtitulos\n",
    "        subtitulo = artigo.find('p')\n",
    "        \n",
    "        #print(subtitulo)\n",
    "        \n",
    "def carregar_notciias(url):\n",
    "    \n",
    "    # Instanciando Navegador\n",
    "    service = Service()\n",
    "    options = webdriver.ChromeOptions()\n",
    "\n",
    "    driver = webdriver.Chrome(service=service, options=options)\n",
    "    \n",
    "    url = 'https://heraldodemexico.com.mx/mundo/'\n",
    "\n",
    "    driver.get(url)\n",
    "    \n",
    "    while True:\n",
    "        try:\n",
    "            time.sleep(4)\n",
    "            driver.execute_script(\"window.scrollBy(0, 7000000);\")\n",
    "            driver.execute_script(\"window.scrollBy(0, -100);\")\n",
    "            botao = driver.find_element(By.CLASS_NAME, 'btn__nav--next')\n",
    "            botao.click()\n",
    "        except: \n",
    "            break\n",
    "        \n",
    "    pagina_noticia = driver.page_source\n",
    "    bs_noticia = BeautifulSoup(pagina_noticia, 'html.parser')\n",
    "    return bs_noticia\n",
    "\n",
    "\n",
    "def main():\n",
    "\n",
    "    url = 'https://heraldodemexico.com.mx/mundo/'\n",
    "    extrair_infos(url)\n",
    "    print(len(titulos_list), len(links_list))\n",
    "\n",
    "if __name__ == \"__main__\":\n",
    "    main()"
   ]
  }
 ],
 "metadata": {
  "kernelspec": {
   "display_name": "Python 3",
   "language": "python",
   "name": "python3"
  },
  "language_info": {
   "codemirror_mode": {
    "name": "ipython",
    "version": 3
   },
   "file_extension": ".py",
   "mimetype": "text/x-python",
   "name": "python",
   "nbconvert_exporter": "python",
   "pygments_lexer": "ipython3",
   "version": "3.11.6"
  }
 },
 "nbformat": 4,
 "nbformat_minor": 2
}
