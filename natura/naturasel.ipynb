{
 "cells": [
  {
   "cell_type": "code",
   "execution_count": 2,
   "metadata": {},
   "outputs": [],
   "source": [
    "import pandas as pd\n",
    "from selenium import webdriver\n",
    "from selenium.webdriver.chrome.service import Service\n",
    "from selenium.webdriver.common.by import By\n",
    "import time\n",
    "from bs4 import BeautifulSoup"
   ]
  },
  {
   "cell_type": "code",
   "execution_count": 62,
   "metadata": {},
   "outputs": [],
   "source": [
    "nome_list = []\n",
    "preço_list = []\n",
    "categoria_list = []\n",
    "preço_t_list = []\n",
    "preço_d_list =[]"
   ]
  },
  {
   "cell_type": "code",
   "execution_count": 4,
   "metadata": {},
   "outputs": [],
   "source": [
    "service = Service()\n",
    "options = webdriver.ChromeOptions()\n",
    "\n",
    "driver = webdriver.Chrome(service=service, options=options)"
   ]
  },
  {
   "cell_type": "code",
   "execution_count": 48,
   "metadata": {},
   "outputs": [],
   "source": [
    "url = 'https://www.natura.com.br/c/tudo-em-promocoes?page=1&pageSize=48'\n",
    "\n",
    "driver.get(url)\n",
    "\n",
    "html = driver"
   ]
  },
  {
   "cell_type": "code",
   "execution_count": 44,
   "metadata": {},
   "outputs": [],
   "source": [
    "driver.execute_script(\"window.scrollBy(0, 700000);\")\n",
    "driver.execute_script(\"window.scrollBy(0, -300);\")\n",
    "time.sleep(2)\n",
    "#botao = driver.find_element(By.)\n",
    "#botao.click()"
   ]
  },
  {
   "cell_type": "code",
   "execution_count": 63,
   "metadata": {},
   "outputs": [
    {
     "name": "stdout",
     "output_type": "stream",
     "text": [
      "144\n",
      "144\n",
      "144\n",
      "144\n"
     ]
    }
   ],
   "source": [
    "\n",
    "html = driver.page_source\n",
    "soup = BeautifulSoup(html, 'html.parser')\n",
    "divs = soup.find_all('div', 'MuiGrid-root MuiGrid-item MuiGrid-grid-xs-4')\n",
    "for div in divs:\n",
    "    dids = div.find_all('div', 'natds1370')\n",
    "    for did in dids:\n",
    "        preço_d = did.p.text\n",
    "        preço_d_list.append(preço_d)\n",
    "    nome = div.h5.text\n",
    "    nome_list.append(nome)\n",
    "    preço_t = div.p.text\n",
    "    preço_t_list.append(preço_t)\n",
    "    categoria = div.h6.text\n",
    "    categoria_list.append(categoria)\n",
    "\n",
    "\n",
    "    \n",
    "print(len(nome_list))\n",
    "print(len(preço_t_list))\n",
    "print(len(categoria_list))\n",
    "print(len(preço_d_list))\n"
   ]
  },
  {
   "cell_type": "code",
   "execution_count": 64,
   "metadata": {},
   "outputs": [
    {
     "name": "stdout",
     "output_type": "stream",
     "text": [
      "                                                  Nome    Preço T    Preço D  \\\n",
      "0             Essencial Exclusivo Deo Parfum Masculino  R$ 239,00  R$ 119,90   \n",
      "1         Kaiak Aventura Desodorante Colônia Masculino  R$ 155,90   R$ 77,90   \n",
      "2            Kaiak Pulso Masculino Desodorante Colônia  R$ 155,90   R$ 77,90   \n",
      "3               Meu Primeiro Humor Desodorante Colônia  R$ 134,90   R$ 66,90   \n",
      "4    Ekos Frescor Maracujá Desodorante Colônia Femi...  R$ 103,90   R$ 51,95   \n",
      "..                                                 ...        ...        ...   \n",
      "139                       Presente Natura Mamãe e Bebê  R$ 165,10  R$ 109,90   \n",
      "140  Esfoliante para o Corpo Tododia Acerola e Hibisco   R$ 41,90   R$ 23,10   \n",
      "141  Desodorante Antitranspirante em Creme Tododia ...   R$ 27,90   R$ 19,40   \n",
      "142  Presente Natura Kaiak Aventura Masculino Cuida...  R$ 270,70  R$ 164,90   \n",
      "143                      Luna Viva Desodorante Colônia  R$ 157,90  R$ 109,90   \n",
      "\n",
      "        Categoria  \n",
      "0       Essencial  \n",
      "1           Kaiak  \n",
      "2           Kaiak  \n",
      "3           Humor  \n",
      "4            Ekos  \n",
      "..            ...  \n",
      "139  Mamãe e Bebê  \n",
      "140       Tododia  \n",
      "141       Tododia  \n",
      "142         Kaiak  \n",
      "143          Luna  \n",
      "\n",
      "[144 rows x 4 columns]\n"
     ]
    }
   ],
   "source": [
    "# Criar um dicionário com as listas\n",
    "dados = {'Nome': nome_list, 'Preço T': preço_t_list,'Preço D': preço_d_list, 'Categoria': categoria_list}\n",
    "\n",
    "# Criar um DataFrame a partir do dicionário\n",
    "df = pd.DataFrame(dados)\n",
    "\n",
    "# Exibir o DataFrame\n",
    "print(df)"
   ]
  },
  {
   "cell_type": "code",
   "execution_count": 66,
   "metadata": {},
   "outputs": [],
   "source": [
    "df.to_csv('output.csv', index=False, encoding = 'utf-8')"
   ]
  }
 ],
 "metadata": {
  "kernelspec": {
   "display_name": "Python 3",
   "language": "python",
   "name": "python3"
  },
  "language_info": {
   "codemirror_mode": {
    "name": "ipython",
    "version": 3
   },
   "file_extension": ".py",
   "mimetype": "text/x-python",
   "name": "python",
   "nbconvert_exporter": "python",
   "pygments_lexer": "ipython3",
   "version": "3.11.6"
  }
 },
 "nbformat": 4,
 "nbformat_minor": 2
}
