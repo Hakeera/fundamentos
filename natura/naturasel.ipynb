{
 "cells": [
  {
   "cell_type": "code",
   "execution_count": 38,
   "metadata": {},
   "outputs": [],
   "source": [
    "import pandas as pd\n",
    "from selenium import webdriver\n",
    "from selenium.webdriver.chrome.service import Service\n",
    "from selenium.webdriver.common.by import By\n",
    "import time\n",
    "from bs4 import BeautifulSoup"
   ]
  },
  {
   "cell_type": "code",
   "execution_count": null,
   "metadata": {},
   "outputs": [],
   "source": [
    "nome_list = []\n",
    "preço_list = []\n",
    "categoria_list = []\n",
    "preço_t_list = []"
   ]
  },
  {
   "cell_type": "code",
   "execution_count": 40,
   "metadata": {},
   "outputs": [],
   "source": [
    "service = Service()\n",
    "options = webdriver.ChromeOptions()\n",
    "\n",
    "driver = webdriver.Chrome(service=service, options=options)"
   ]
  },
  {
   "cell_type": "code",
   "execution_count": 52,
   "metadata": {},
   "outputs": [],
   "source": [
    "url = 'https://www.natura.com.br/c/tudo-em-promocoes?page=1&pageSize=48'\n",
    "\n",
    "driver.get(url)\n",
    "\n",
    "html = driver"
   ]
  },
  {
   "cell_type": "code",
   "execution_count": 105,
   "metadata": {},
   "outputs": [
    {
     "ename": "AttributeError",
     "evalue": "'str' object has no attribute 'find_next'",
     "output_type": "error",
     "traceback": [
      "\u001b[1;31m---------------------------------------------------------------------------\u001b[0m",
      "\u001b[1;31mAttributeError\u001b[0m                            Traceback (most recent call last)",
      "\u001b[1;32mc:\\Users\\Dell\\Desktop\\code\\fundamentos\\natura\\naturasel.ipynb Cell 5\u001b[0m line \u001b[0;36m1\n\u001b[0;32m      <a href='vscode-notebook-cell:/c%3A/Users/Dell/Desktop/code/fundamentos/natura/naturasel.ipynb#W2sZmlsZQ%3D%3D?line=8'>9</a>\u001b[0m     categoria \u001b[39m=\u001b[39m div\u001b[39m.\u001b[39mh6\u001b[39m.\u001b[39mtext\n\u001b[0;32m     <a href='vscode-notebook-cell:/c%3A/Users/Dell/Desktop/code/fundamentos/natura/naturasel.ipynb#W2sZmlsZQ%3D%3D?line=9'>10</a>\u001b[0m     categoria_list\u001b[39m.\u001b[39mappend(categoria)\n\u001b[1;32m---> <a href='vscode-notebook-cell:/c%3A/Users/Dell/Desktop/code/fundamentos/natura/naturasel.ipynb#W2sZmlsZQ%3D%3D?line=10'>11</a>\u001b[0m     preço_t \u001b[39m=\u001b[39m preço\u001b[39m.\u001b[39;49mfind_next(\u001b[39m'\u001b[39m\u001b[39mp\u001b[39m\u001b[39m'\u001b[39m)\u001b[39m.\u001b[39mtext\n\u001b[0;32m     <a href='vscode-notebook-cell:/c%3A/Users/Dell/Desktop/code/fundamentos/natura/naturasel.ipynb#W2sZmlsZQ%3D%3D?line=11'>12</a>\u001b[0m     preço_t_list\u001b[39m.\u001b[39mappend(preço_t)\n\u001b[0;32m     <a href='vscode-notebook-cell:/c%3A/Users/Dell/Desktop/code/fundamentos/natura/naturasel.ipynb#W2sZmlsZQ%3D%3D?line=13'>14</a>\u001b[0m \u001b[39mprint\u001b[39m(\u001b[39mlen\u001b[39m(nome_list))\n",
      "\u001b[1;31mAttributeError\u001b[0m: 'str' object has no attribute 'find_next'"
     ]
    }
   ],
   "source": [
    "\n",
    "html = driver.page_source\n",
    "soup = BeautifulSoup(html, 'html.parser')\n",
    "divs = soup.find_all('div', 'MuiGrid-root MuiGrid-item MuiGrid-grid-xs-6')\n",
    "for div in divs:\n",
    "    nome = div.h5.text\n",
    "    nome_list.append(nome)\n",
    "    preço = div.p.text\n",
    "    preço_list.append(preço)\n",
    "    categoria = div.h6.text\n",
    "    categoria_list.append(categoria)\n",
    "    preço_t = preço.find_next('p').text\n",
    "    preço_t_list.append(preço_t)\n",
    "    \n",
    "print(len(nome_list))\n",
    "print(len(preço_list))\n",
    "print(len(categoria_list))\n",
    "print(len(preço_t_list))\n",
    "    "
   ]
  },
  {
   "cell_type": "code",
   "execution_count": 23,
   "metadata": {},
   "outputs": [],
   "source": []
  },
  {
   "cell_type": "code",
   "execution_count": null,
   "metadata": {},
   "outputs": [],
   "source": []
  },
  {
   "cell_type": "code",
   "execution_count": null,
   "metadata": {},
   "outputs": [],
   "source": [
    "while True:\n",
    "    try:\n",
    "        driver.execute_script(\"window.scrollBy(0, 700000);\")\n",
    "        driver.execute_script(\"window.scrollBy(0, -300);\")\n",
    "        time.sleep(2)\n",
    "        botao = driver.find_element(By.XPATH, '//button[@title=\"Ver más notas de SOCIEDAD\"]')\n",
    "        botao.click()\n",
    "\n",
    "    except:\n",
    "        break"
   ]
  }
 ],
 "metadata": {
  "kernelspec": {
   "display_name": "Python 3",
   "language": "python",
   "name": "python3"
  },
  "language_info": {
   "codemirror_mode": {
    "name": "ipython",
    "version": 3
   },
   "file_extension": ".py",
   "mimetype": "text/x-python",
   "name": "python",
   "nbconvert_exporter": "python",
   "pygments_lexer": "ipython3",
   "version": "3.11.6"
  }
 },
 "nbformat": 4,
 "nbformat_minor": 2
}
