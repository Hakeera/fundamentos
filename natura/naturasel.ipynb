{
 "cells": [
  {
   "cell_type": "code",
   "execution_count": 1,
   "metadata": {},
   "outputs": [],
   "source": [
    "import pandas as pd\n",
    "from selenium import webdriver\n",
    "from selenium.webdriver.chrome.service import Service\n",
    "from selenium.webdriver.common.by import By\n",
    "import time\n",
    "from bs4 import BeautifulSoup"
   ]
  },
  {
   "cell_type": "code",
   "execution_count": 41,
   "metadata": {},
   "outputs": [],
   "source": [
    "nome_list = []\n",
    "preço_list = []\n",
    "categoria_list = []\n",
    "preço_t_list = []\n",
    "preço_d_list =[]"
   ]
  },
  {
   "cell_type": "code",
   "execution_count": 3,
   "metadata": {},
   "outputs": [],
   "source": [
    "service = Service()\n",
    "options = webdriver.ChromeOptions()\n",
    "\n",
    "driver = webdriver.Chrome(service=service, options=options)"
   ]
  },
  {
   "cell_type": "code",
   "execution_count": 4,
   "metadata": {},
   "outputs": [],
   "source": [
    "url = 'https://www.natura.com.br/c/tudo-em-promocoes?page=1&pageSize=48'\n",
    "\n",
    "driver.get(url)\n",
    "\n",
    "html = driver"
   ]
  },
  {
   "cell_type": "code",
   "execution_count": 40,
   "metadata": {},
   "outputs": [],
   "source": [
    "driver.execute_script(\"window.scrollBy(0, 700000);\")\n",
    "driver.execute_script(\"window.scrollBy(0, -5500);\")\n",
    "time.sleep(2)\n",
    "botao = driver.find_element(By.CSS_SELECTOR, \"a.MuiButtonBase-root.MuiButton-root.natds106.MuiButton-outlined.MuiButton-outlinedPrimary\")\n",
    "botao.click()"
   ]
  },
  {
   "cell_type": "code",
   "execution_count": null,
   "metadata": {},
   "outputs": [],
   "source": [
    "\n",
    "html = driver.page_source\n",
    "soup = BeautifulSoup(html, 'html.parser')\n",
    "divs = soup.find_all('div', 'MuiGrid-root MuiGrid-item MuiGrid-grid-xs-6')\n",
    "for div in divs:\n",
    "    dids = div.find_all('div', 'natds1791')\n",
    "    for did in dids:\n",
    "        preço_d = did.p.text\n",
    "        preço_d_list.append(preço_d)\n",
    "    nome = div.h5.text\n",
    "    nome_list.append(nome)\n",
    "    preço_t = div.p.text\n",
    "    preço_t_list.append(preço_t)\n",
    "    categoria = div.h6.text\n",
    "    categoria_list.append(categoria)\n",
    "\n",
    "\n",
    "    \n",
    "print(len(nome_list))\n",
    "print(len(preço_t_list))\n",
    "print(len(categoria_list))\n",
    "print(len(preço_d_list))\n"
   ]
  },
  {
   "cell_type": "code",
   "execution_count": null,
   "metadata": {},
   "outputs": [],
   "source": [
    "# Criar um dicionário com as listas\n",
    "dados = {'Nome': nome_list, 'Preço T': preço_t_list,'Preço D': preço_d_list, 'Categoria': categoria_list}\n",
    "\n",
    "# Criar um DataFrame a partir do dicionário\n",
    "df = pd.DataFrame(dados)\n",
    "\n",
    "# Exibir o DataFrame\n",
    "print(df)"
   ]
  },
  {
   "cell_type": "code",
   "execution_count": 44,
   "metadata": {},
   "outputs": [],
   "source": [
    "df.to_csv('output.csv', index=False, encoding = 'utf-8')"
   ]
  },
  {
   "cell_type": "code",
   "execution_count": 46,
   "metadata": {},
   "outputs": [],
   "source": [
    "df.to_excel('output.xlsx', index=False)"
   ]
  }
 ],
 "metadata": {
  "kernelspec": {
   "display_name": "Python 3",
   "language": "python",
   "name": "python3"
  },
  "language_info": {
   "codemirror_mode": {
    "name": "ipython",
    "version": 3
   },
   "file_extension": ".py",
   "mimetype": "text/x-python",
   "name": "python",
   "nbconvert_exporter": "python",
   "pygments_lexer": "ipython3",
   "version": "3.11.7"
  }
 },
 "nbformat": 4,
 "nbformat_minor": 2
}
